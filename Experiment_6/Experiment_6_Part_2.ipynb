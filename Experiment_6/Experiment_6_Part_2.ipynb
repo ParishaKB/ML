{
  "nbformat": 4,
  "nbformat_minor": 0,
  "metadata": {
    "colab": {
      "name": "Experiment_6_Part_2.ipynb",
      "provenance": [],
      "authorship_tag": "ABX9TyNf8US5bXrNiA/P8eueTDGg",
      "include_colab_link": true
    },
    "kernelspec": {
      "name": "python3",
      "display_name": "Python 3"
    }
  },
  "cells": [
    {
      "cell_type": "markdown",
      "metadata": {
        "id": "view-in-github",
        "colab_type": "text"
      },
      "source": [
        "<a href=\"https://colab.research.google.com/github/ParishaKB/ML/blob/master/Experiment_6/Experiment_6_Part_2.ipynb\" target=\"_parent\"><img src=\"https://colab.research.google.com/assets/colab-badge.svg\" alt=\"Open In Colab\"/></a>"
      ]
    },
    {
      "cell_type": "code",
      "metadata": {
        "id": "DRXTrefARuy4",
        "colab_type": "code",
        "colab": {
          "base_uri": "https://localhost:8080/",
          "height": 70
        },
        "outputId": "990a625c-57a8-444d-fcd3-d8d6ed298d3b"
      },
      "source": [
        "import numpy as np\n",
        "import pandas as pd\n",
        "\n",
        "import matplotlib.pyplot as plt\n",
        "import seaborn as sns\n",
        "\n",
        "from sklearn.model_selection import train_test_split, cross_val_score\n",
        "from sklearn.preprocessing import StandardScaler\n",
        "\n",
        "from sklearn import linear_model\n",
        "from sklearn.model_selection import GridSearchCV, RandomizedSearchCV\n",
        "\n",
        "import warnings\n",
        "warnings.filterwarnings('ignore')\n",
        "\n",
        "np.random.seed(27)"
      ],
      "execution_count": null,
      "outputs": [
        {
          "output_type": "stream",
          "text": [
            "/usr/local/lib/python3.6/dist-packages/statsmodels/tools/_testing.py:19: FutureWarning: pandas.util.testing is deprecated. Use the functions in the public API at pandas.testing instead.\n",
            "  import pandas.util.testing as tm\n"
          ],
          "name": "stderr"
        }
      ]
    },
    {
      "cell_type": "code",
      "metadata": {
        "id": "YHQqYmEOR5h0",
        "colab_type": "code",
        "colab": {}
      },
      "source": [
        "# setting up default plotting parameters\n",
        "%matplotlib inline\n",
        "\n",
        "plt.rcParams['figure.figsize'] = [20.0, 7.0]\n",
        "plt.rcParams.update({'font.size': 22,})\n",
        "\n",
        "sns.set_palette('viridis')\n",
        "sns.set_style('white')\n",
        "sns.set_context('talk', font_scale=0.8)"
      ],
      "execution_count": null,
      "outputs": []
    },
    {
      "cell_type": "code",
      "metadata": {
        "id": "a5hdMTpvR8Eo",
        "colab_type": "code",
        "colab": {
          "base_uri": "https://localhost:8080/",
          "height": 642
        },
        "outputId": "a8d4180b-f952-48b8-fbe8-fc45c9c9738c"
      },
      "source": [
        "#-O All downloaded content is stored at filename\n",
        " \n",
        "!wget -O 2011gcn.csv https://raw.githubusercontent.com/pranavn91/blockchain/master/2011gcn.csv\n",
        "!wget -O tx2011partvertices_new.csv https://raw.githubusercontent.com/pranavn91/blockchain/master/tx2011partvertices_new.csv\n",
        "!wget -O tx2011partvertices.csv https://raw.githubusercontent.com/pranavn91/blockchain/master/tx2011partvertices.csv\n",
        "\n",
        "train1 = pd.read_csv('2011gcn.csv')\n",
        "train2 = pd.read_csv('tx2011partvertices_new.csv')\n",
        "train3 = pd.read_csv('tx2011partvertices.csv')\n",
        "\n",
        "print('Train 1 Shape: ', train1.shape)\n",
        "print('Train 2 Shape: ', train2.shape)\n",
        "print('Train 3 Shape: ', train3.shape)"
      ],
      "execution_count": null,
      "outputs": [
        {
          "output_type": "stream",
          "text": [
            "--2020-08-27 09:47:36--  https://raw.githubusercontent.com/pranavn91/blockchain/master/2011gcn.csv\n",
            "Resolving raw.githubusercontent.com (raw.githubusercontent.com)... 151.101.0.133, 151.101.64.133, 151.101.128.133, ...\n",
            "Connecting to raw.githubusercontent.com (raw.githubusercontent.com)|151.101.0.133|:443... connected.\n",
            "HTTP request sent, awaiting response... 200 OK\n",
            "Length: 12563086 (12M) [text/plain]\n",
            "Saving to: ‘2011gcn.csv’\n",
            "\n",
            "2011gcn.csv         100%[===================>]  11.98M  21.7MB/s    in 0.6s    \n",
            "\n",
            "2020-08-27 09:47:38 (21.7 MB/s) - ‘2011gcn.csv’ saved [12563086/12563086]\n",
            "\n",
            "--2020-08-27 09:47:38--  https://raw.githubusercontent.com/pranavn91/blockchain/master/tx2011partvertices_new.csv\n",
            "Resolving raw.githubusercontent.com (raw.githubusercontent.com)... 151.101.0.133, 151.101.64.133, 151.101.128.133, ...\n",
            "Connecting to raw.githubusercontent.com (raw.githubusercontent.com)|151.101.0.133|:443... connected.\n",
            "HTTP request sent, awaiting response... 200 OK\n",
            "Length: 12501458 (12M) [text/plain]\n",
            "Saving to: ‘tx2011partvertices_new.csv’\n",
            "\n",
            "tx2011partvertices_ 100%[===================>]  11.92M  21.2MB/s    in 0.6s    \n",
            "\n",
            "2020-08-27 09:47:39 (21.2 MB/s) - ‘tx2011partvertices_new.csv’ saved [12501458/12501458]\n",
            "\n",
            "--2020-08-27 09:47:39--  https://raw.githubusercontent.com/pranavn91/blockchain/master/tx2011partvertices.csv\n",
            "Resolving raw.githubusercontent.com (raw.githubusercontent.com)... 151.101.0.133, 151.101.64.133, 151.101.128.133, ...\n",
            "Connecting to raw.githubusercontent.com (raw.githubusercontent.com)|151.101.0.133|:443... connected.\n",
            "HTTP request sent, awaiting response... 200 OK\n",
            "Length: 1934257 (1.8M) [text/plain]\n",
            "Saving to: ‘tx2011partvertices.csv’\n",
            "\n",
            "tx2011partvertices. 100%[===================>]   1.84M  9.50MB/s    in 0.2s    \n",
            "\n",
            "2020-08-27 09:47:40 (9.50 MB/s) - ‘tx2011partvertices.csv’ saved [1934257/1934257]\n",
            "\n",
            "Train 1 Shape:  (96498, 17)\n",
            "Train 2 Shape:  (96498, 20)\n",
            "Train 3 Shape:  (96498, 2)\n"
          ],
          "name": "stdout"
        }
      ]
    },
    {
      "cell_type": "code",
      "metadata": {
        "id": "3jmNkhbsR-aU",
        "colab_type": "code",
        "colab": {
          "base_uri": "https://localhost:8080/",
          "height": 215
        },
        "outputId": "c63732b1-f984-4abc-d485-dba740fd4f02"
      },
      "source": [
        "train1.rename(columns={'Unnamed: 0':'index'}, inplace=True)\n",
        "train1['index'] = train1['index'] + 1\n",
        "train1.head()"
      ],
      "execution_count": null,
      "outputs": [
        {
          "output_type": "execute_result",
          "data": {
            "text/html": [
              "<div>\n",
              "<style scoped>\n",
              "    .dataframe tbody tr th:only-of-type {\n",
              "        vertical-align: middle;\n",
              "    }\n",
              "\n",
              "    .dataframe tbody tr th {\n",
              "        vertical-align: top;\n",
              "    }\n",
              "\n",
              "    .dataframe thead th {\n",
              "        text-align: right;\n",
              "    }\n",
              "</style>\n",
              "<table border=\"1\" class=\"dataframe\">\n",
              "  <thead>\n",
              "    <tr style=\"text-align: right;\">\n",
              "      <th></th>\n",
              "      <th>index</th>\n",
              "      <th>0</th>\n",
              "      <th>1</th>\n",
              "      <th>2</th>\n",
              "      <th>3</th>\n",
              "      <th>4</th>\n",
              "      <th>5</th>\n",
              "      <th>6</th>\n",
              "      <th>7</th>\n",
              "      <th>8</th>\n",
              "      <th>9</th>\n",
              "      <th>10</th>\n",
              "      <th>11</th>\n",
              "      <th>12</th>\n",
              "      <th>13</th>\n",
              "      <th>14</th>\n",
              "      <th>15</th>\n",
              "    </tr>\n",
              "  </thead>\n",
              "  <tbody>\n",
              "    <tr>\n",
              "      <th>0</th>\n",
              "      <td>1</td>\n",
              "      <td>0.0</td>\n",
              "      <td>4.811244e+07</td>\n",
              "      <td>0.0</td>\n",
              "      <td>0.0</td>\n",
              "      <td>5.298934e+07</td>\n",
              "      <td>0.0</td>\n",
              "      <td>5.215435e+07</td>\n",
              "      <td>0.0</td>\n",
              "      <td>0.0</td>\n",
              "      <td>4.293262e+05</td>\n",
              "      <td>3.994267e+07</td>\n",
              "      <td>6.251989e+07</td>\n",
              "      <td>0.0</td>\n",
              "      <td>0.0</td>\n",
              "      <td>2.670458e+07</td>\n",
              "      <td>8.313858e+07</td>\n",
              "    </tr>\n",
              "    <tr>\n",
              "      <th>1</th>\n",
              "      <td>2</td>\n",
              "      <td>0.0</td>\n",
              "      <td>3.477977e+05</td>\n",
              "      <td>0.0</td>\n",
              "      <td>0.0</td>\n",
              "      <td>3.777575e+05</td>\n",
              "      <td>0.0</td>\n",
              "      <td>3.757520e+05</td>\n",
              "      <td>0.0</td>\n",
              "      <td>0.0</td>\n",
              "      <td>6.889133e+03</td>\n",
              "      <td>3.001618e+05</td>\n",
              "      <td>4.527358e+05</td>\n",
              "      <td>0.0</td>\n",
              "      <td>0.0</td>\n",
              "      <td>1.915057e+05</td>\n",
              "      <td>6.009039e+05</td>\n",
              "    </tr>\n",
              "    <tr>\n",
              "      <th>2</th>\n",
              "      <td>3</td>\n",
              "      <td>0.0</td>\n",
              "      <td>6.455196e+07</td>\n",
              "      <td>0.0</td>\n",
              "      <td>0.0</td>\n",
              "      <td>7.110790e+07</td>\n",
              "      <td>0.0</td>\n",
              "      <td>6.997804e+07</td>\n",
              "      <td>0.0</td>\n",
              "      <td>0.0</td>\n",
              "      <td>5.670157e+05</td>\n",
              "      <td>5.356332e+07</td>\n",
              "      <td>8.388026e+07</td>\n",
              "      <td>0.0</td>\n",
              "      <td>0.0</td>\n",
              "      <td>3.583296e+07</td>\n",
              "      <td>1.115463e+08</td>\n",
              "    </tr>\n",
              "    <tr>\n",
              "      <th>3</th>\n",
              "      <td>4</td>\n",
              "      <td>0.0</td>\n",
              "      <td>2.009876e+08</td>\n",
              "      <td>0.0</td>\n",
              "      <td>0.0</td>\n",
              "      <td>2.214679e+08</td>\n",
              "      <td>0.0</td>\n",
              "      <td>2.174101e+08</td>\n",
              "      <td>0.0</td>\n",
              "      <td>0.0</td>\n",
              "      <td>1.342720e+06</td>\n",
              "      <td>1.665389e+08</td>\n",
              "      <td>2.614420e+08</td>\n",
              "      <td>0.0</td>\n",
              "      <td>0.0</td>\n",
              "      <td>1.116514e+08</td>\n",
              "      <td>3.472892e+08</td>\n",
              "    </tr>\n",
              "    <tr>\n",
              "      <th>4</th>\n",
              "      <td>5</td>\n",
              "      <td>0.0</td>\n",
              "      <td>2.384675e+05</td>\n",
              "      <td>0.0</td>\n",
              "      <td>0.0</td>\n",
              "      <td>2.597246e+05</td>\n",
              "      <td>0.0</td>\n",
              "      <td>2.577884e+05</td>\n",
              "      <td>0.0</td>\n",
              "      <td>0.0</td>\n",
              "      <td>4.202993e+03</td>\n",
              "      <td>2.042845e+05</td>\n",
              "      <td>3.103489e+05</td>\n",
              "      <td>0.0</td>\n",
              "      <td>0.0</td>\n",
              "      <td>1.315073e+05</td>\n",
              "      <td>4.120424e+05</td>\n",
              "    </tr>\n",
              "  </tbody>\n",
              "</table>\n",
              "</div>"
            ],
            "text/plain": [
              "   index    0             1    2  ...   12   13            14            15\n",
              "0      1  0.0  4.811244e+07  0.0  ...  0.0  0.0  2.670458e+07  8.313858e+07\n",
              "1      2  0.0  3.477977e+05  0.0  ...  0.0  0.0  1.915057e+05  6.009039e+05\n",
              "2      3  0.0  6.455196e+07  0.0  ...  0.0  0.0  3.583296e+07  1.115463e+08\n",
              "3      4  0.0  2.009876e+08  0.0  ...  0.0  0.0  1.116514e+08  3.472892e+08\n",
              "4      5  0.0  2.384675e+05  0.0  ...  0.0  0.0  1.315073e+05  4.120424e+05\n",
              "\n",
              "[5 rows x 17 columns]"
            ]
          },
          "metadata": {
            "tags": []
          },
          "execution_count": 4
        }
      ]
    },
    {
      "cell_type": "code",
      "metadata": {
        "id": "th4lFpmpR_uF",
        "colab_type": "code",
        "colab": {
          "base_uri": "https://localhost:8080/",
          "height": 215
        },
        "outputId": "138758d0-1fb4-44a6-97ef-de09ff044c59"
      },
      "source": [
        "train2.rename(columns={'Unnamed: 0':'index'}, inplace=True)\n",
        "train2.head()"
      ],
      "execution_count": null,
      "outputs": [
        {
          "output_type": "execute_result",
          "data": {
            "text/html": [
              "<div>\n",
              "<style scoped>\n",
              "    .dataframe tbody tr th:only-of-type {\n",
              "        vertical-align: middle;\n",
              "    }\n",
              "\n",
              "    .dataframe tbody tr th {\n",
              "        vertical-align: top;\n",
              "    }\n",
              "\n",
              "    .dataframe thead th {\n",
              "        text-align: right;\n",
              "    }\n",
              "</style>\n",
              "<table border=\"1\" class=\"dataframe\">\n",
              "  <thead>\n",
              "    <tr style=\"text-align: right;\">\n",
              "      <th></th>\n",
              "      <th>index</th>\n",
              "      <th>txsize</th>\n",
              "      <th>txvirtualsize</th>\n",
              "      <th>txinputs_count</th>\n",
              "      <th>txoutputs_count</th>\n",
              "      <th>txinput_val</th>\n",
              "      <th>txoutput_val</th>\n",
              "      <th>txfee</th>\n",
              "      <th>Min_received</th>\n",
              "      <th>Max_received</th>\n",
              "      <th>Avg_received</th>\n",
              "      <th>Total_received</th>\n",
              "      <th>Stdev_received</th>\n",
              "      <th>Var_received</th>\n",
              "      <th>Min_sent</th>\n",
              "      <th>Max_sent</th>\n",
              "      <th>Avg_sent</th>\n",
              "      <th>Total_sent</th>\n",
              "      <th>Stdev_sent</th>\n",
              "      <th>Var_sent</th>\n",
              "    </tr>\n",
              "  </thead>\n",
              "  <tbody>\n",
              "    <tr>\n",
              "      <th>0</th>\n",
              "      <td>1</td>\n",
              "      <td>7369</td>\n",
              "      <td>7369</td>\n",
              "      <td>5</td>\n",
              "      <td>190</td>\n",
              "      <td>215000000.0</td>\n",
              "      <td>214600000.0</td>\n",
              "      <td>400000</td>\n",
              "      <td>0.0005</td>\n",
              "      <td>1.0000</td>\n",
              "      <td>0.011295</td>\n",
              "      <td>2.1460</td>\n",
              "      <td>0.081163</td>\n",
              "      <td>0.006587</td>\n",
              "      <td>0.0005</td>\n",
              "      <td>1.6700</td>\n",
              "      <td>0.4300</td>\n",
              "      <td>2.1500</td>\n",
              "      <td>0.703445</td>\n",
              "      <td>0.494835</td>\n",
              "    </tr>\n",
              "    <tr>\n",
              "      <th>1</th>\n",
              "      <td>2</td>\n",
              "      <td>293</td>\n",
              "      <td>293</td>\n",
              "      <td>1</td>\n",
              "      <td>3</td>\n",
              "      <td>4400000.0</td>\n",
              "      <td>4350000.0</td>\n",
              "      <td>50000</td>\n",
              "      <td>0.0010</td>\n",
              "      <td>0.0415</td>\n",
              "      <td>0.014500</td>\n",
              "      <td>0.0435</td>\n",
              "      <td>0.023383</td>\n",
              "      <td>0.000547</td>\n",
              "      <td>0.0440</td>\n",
              "      <td>0.0440</td>\n",
              "      <td>0.0440</td>\n",
              "      <td>0.0440</td>\n",
              "      <td>0.000000</td>\n",
              "      <td>0.000000</td>\n",
              "    </tr>\n",
              "    <tr>\n",
              "      <th>2</th>\n",
              "      <td>3</td>\n",
              "      <td>11139</td>\n",
              "      <td>11139</td>\n",
              "      <td>1</td>\n",
              "      <td>322</td>\n",
              "      <td>125000000.0</td>\n",
              "      <td>124400000.0</td>\n",
              "      <td>600000</td>\n",
              "      <td>0.0010</td>\n",
              "      <td>0.4460</td>\n",
              "      <td>0.003863</td>\n",
              "      <td>1.2440</td>\n",
              "      <td>0.024941</td>\n",
              "      <td>0.000622</td>\n",
              "      <td>1.2500</td>\n",
              "      <td>1.2500</td>\n",
              "      <td>1.2500</td>\n",
              "      <td>1.2500</td>\n",
              "      <td>0.000000</td>\n",
              "      <td>0.000000</td>\n",
              "    </tr>\n",
              "    <tr>\n",
              "      <th>3</th>\n",
              "      <td>4</td>\n",
              "      <td>495</td>\n",
              "      <td>495</td>\n",
              "      <td>1</td>\n",
              "      <td>9</td>\n",
              "      <td>27450000.0</td>\n",
              "      <td>27400000.0</td>\n",
              "      <td>50000</td>\n",
              "      <td>0.0010</td>\n",
              "      <td>0.2660</td>\n",
              "      <td>0.030444</td>\n",
              "      <td>0.2740</td>\n",
              "      <td>0.088333</td>\n",
              "      <td>0.007803</td>\n",
              "      <td>0.2745</td>\n",
              "      <td>0.2745</td>\n",
              "      <td>0.2745</td>\n",
              "      <td>0.2745</td>\n",
              "      <td>0.000000</td>\n",
              "      <td>0.000000</td>\n",
              "    </tr>\n",
              "    <tr>\n",
              "      <th>4</th>\n",
              "      <td>5</td>\n",
              "      <td>462</td>\n",
              "      <td>462</td>\n",
              "      <td>1</td>\n",
              "      <td>8</td>\n",
              "      <td>3000000.0</td>\n",
              "      <td>2950000.0</td>\n",
              "      <td>50000</td>\n",
              "      <td>0.0010</td>\n",
              "      <td>0.0225</td>\n",
              "      <td>0.003687</td>\n",
              "      <td>0.0295</td>\n",
              "      <td>0.007601</td>\n",
              "      <td>0.000058</td>\n",
              "      <td>0.0300</td>\n",
              "      <td>0.0300</td>\n",
              "      <td>0.0300</td>\n",
              "      <td>0.0300</td>\n",
              "      <td>0.000000</td>\n",
              "      <td>0.000000</td>\n",
              "    </tr>\n",
              "  </tbody>\n",
              "</table>\n",
              "</div>"
            ],
            "text/plain": [
              "   index  txsize  txvirtualsize  ...  Total_sent  Stdev_sent  Var_sent\n",
              "0      1    7369           7369  ...      2.1500    0.703445  0.494835\n",
              "1      2     293            293  ...      0.0440    0.000000  0.000000\n",
              "2      3   11139          11139  ...      1.2500    0.000000  0.000000\n",
              "3      4     495            495  ...      0.2745    0.000000  0.000000\n",
              "4      5     462            462  ...      0.0300    0.000000  0.000000\n",
              "\n",
              "[5 rows x 20 columns]"
            ]
          },
          "metadata": {
            "tags": []
          },
          "execution_count": 5
        }
      ]
    },
    {
      "cell_type": "code",
      "metadata": {
        "id": "ykx8IGQlSIJ7",
        "colab_type": "code",
        "colab": {
          "base_uri": "https://localhost:8080/",
          "height": 195
        },
        "outputId": "30a158f1-c39b-4dbf-8856-442ef4d75ffa"
      },
      "source": [
        "train3.rename(columns={'Unnamed: 0':'index'}, inplace=True)\n",
        "train3.head()"
      ],
      "execution_count": null,
      "outputs": [
        {
          "output_type": "execute_result",
          "data": {
            "text/html": [
              "<div>\n",
              "<style scoped>\n",
              "    .dataframe tbody tr th:only-of-type {\n",
              "        vertical-align: middle;\n",
              "    }\n",
              "\n",
              "    .dataframe tbody tr th {\n",
              "        vertical-align: top;\n",
              "    }\n",
              "\n",
              "    .dataframe thead th {\n",
              "        text-align: right;\n",
              "    }\n",
              "</style>\n",
              "<table border=\"1\" class=\"dataframe\">\n",
              "  <thead>\n",
              "    <tr style=\"text-align: right;\">\n",
              "      <th></th>\n",
              "      <th>index</th>\n",
              "      <th>label</th>\n",
              "    </tr>\n",
              "  </thead>\n",
              "  <tbody>\n",
              "    <tr>\n",
              "      <th>0</th>\n",
              "      <td>1</td>\n",
              "      <td>unclassified</td>\n",
              "    </tr>\n",
              "    <tr>\n",
              "      <th>1</th>\n",
              "      <td>2</td>\n",
              "      <td>donations</td>\n",
              "    </tr>\n",
              "    <tr>\n",
              "      <th>2</th>\n",
              "      <td>3</td>\n",
              "      <td>unclassified</td>\n",
              "    </tr>\n",
              "    <tr>\n",
              "      <th>3</th>\n",
              "      <td>4</td>\n",
              "      <td>donations</td>\n",
              "    </tr>\n",
              "    <tr>\n",
              "      <th>4</th>\n",
              "      <td>5</td>\n",
              "      <td>donations</td>\n",
              "    </tr>\n",
              "  </tbody>\n",
              "</table>\n",
              "</div>"
            ],
            "text/plain": [
              "   index         label\n",
              "0      1  unclassified\n",
              "1      2     donations\n",
              "2      3  unclassified\n",
              "3      4     donations\n",
              "4      5     donations"
            ]
          },
          "metadata": {
            "tags": []
          },
          "execution_count": 6
        }
      ]
    },
    {
      "cell_type": "code",
      "metadata": {
        "id": "1RDew4XPSKgV",
        "colab_type": "code",
        "colab": {
          "base_uri": "https://localhost:8080/",
          "height": 420
        },
        "outputId": "68df243c-1222-4054-8d7a-0acc8cd00a96"
      },
      "source": [
        "train1.info()"
      ],
      "execution_count": null,
      "outputs": [
        {
          "output_type": "stream",
          "text": [
            "<class 'pandas.core.frame.DataFrame'>\n",
            "RangeIndex: 96498 entries, 0 to 96497\n",
            "Data columns (total 17 columns):\n",
            " #   Column  Non-Null Count  Dtype  \n",
            "---  ------  --------------  -----  \n",
            " 0   index   96498 non-null  int64  \n",
            " 1   0       96498 non-null  float64\n",
            " 2   1       96498 non-null  float64\n",
            " 3   2       96498 non-null  float64\n",
            " 4   3       96498 non-null  float64\n",
            " 5   4       96498 non-null  float64\n",
            " 6   5       96498 non-null  float64\n",
            " 7   6       96498 non-null  float64\n",
            " 8   7       96498 non-null  float64\n",
            " 9   8       96498 non-null  float64\n",
            " 10  9       96498 non-null  float64\n",
            " 11  10      96498 non-null  float64\n",
            " 12  11      96498 non-null  float64\n",
            " 13  12      96498 non-null  float64\n",
            " 14  13      96498 non-null  float64\n",
            " 15  14      96498 non-null  float64\n",
            " 16  15      96498 non-null  float64\n",
            "dtypes: float64(16), int64(1)\n",
            "memory usage: 12.5 MB\n"
          ],
          "name": "stdout"
        }
      ]
    },
    {
      "cell_type": "code",
      "metadata": {
        "id": "7y4ebb01SK6i",
        "colab_type": "code",
        "colab": {
          "base_uri": "https://localhost:8080/",
          "height": 470
        },
        "outputId": "f329d1d4-a406-4ead-b37f-288f7980b50f"
      },
      "source": [
        "train2.info()"
      ],
      "execution_count": null,
      "outputs": [
        {
          "output_type": "stream",
          "text": [
            "<class 'pandas.core.frame.DataFrame'>\n",
            "RangeIndex: 96498 entries, 0 to 96497\n",
            "Data columns (total 20 columns):\n",
            " #   Column           Non-Null Count  Dtype  \n",
            "---  ------           --------------  -----  \n",
            " 0   index            96498 non-null  int64  \n",
            " 1   txsize           96498 non-null  int64  \n",
            " 2   txvirtualsize    96498 non-null  int64  \n",
            " 3   txinputs_count   96498 non-null  int64  \n",
            " 4   txoutputs_count  96498 non-null  int64  \n",
            " 5   txinput_val      96498 non-null  float64\n",
            " 6   txoutput_val     96498 non-null  float64\n",
            " 7   txfee            96498 non-null  int64  \n",
            " 8   Min_received     96498 non-null  float64\n",
            " 9   Max_received     96498 non-null  float64\n",
            " 10  Avg_received     96498 non-null  float64\n",
            " 11  Total_received   96498 non-null  float64\n",
            " 12  Stdev_received   96498 non-null  float64\n",
            " 13  Var_received     96498 non-null  float64\n",
            " 14  Min_sent         96498 non-null  float64\n",
            " 15  Max_sent         96498 non-null  float64\n",
            " 16  Avg_sent         96498 non-null  float64\n",
            " 17  Total_sent       96498 non-null  float64\n",
            " 18  Stdev_sent       96498 non-null  float64\n",
            " 19  Var_sent         96498 non-null  float64\n",
            "dtypes: float64(14), int64(6)\n",
            "memory usage: 14.7 MB\n"
          ],
          "name": "stdout"
        }
      ]
    },
    {
      "cell_type": "code",
      "metadata": {
        "id": "Em-Gvd8gSK96",
        "colab_type": "code",
        "colab": {
          "base_uri": "https://localhost:8080/",
          "height": 168
        },
        "outputId": "9780e4f1-4cdc-478f-8465-8a68ad9d8dd5"
      },
      "source": [
        "train3.info()"
      ],
      "execution_count": null,
      "outputs": [
        {
          "output_type": "stream",
          "text": [
            "<class 'pandas.core.frame.DataFrame'>\n",
            "RangeIndex: 96498 entries, 0 to 96497\n",
            "Data columns (total 2 columns):\n",
            " #   Column  Non-Null Count  Dtype \n",
            "---  ------  --------------  ----- \n",
            " 0   index   96498 non-null  int64 \n",
            " 1   label   96498 non-null  object\n",
            "dtypes: int64(1), object(1)\n",
            "memory usage: 1.5+ MB\n"
          ],
          "name": "stdout"
        }
      ]
    },
    {
      "cell_type": "code",
      "metadata": {
        "id": "cST8wa2ZSORd",
        "colab_type": "code",
        "colab": {}
      },
      "source": [
        "results = pd.merge(train3, train1, on='index', how='inner')\n",
        "\n",
        "# split data into X and y\n",
        "x = results.iloc[:,2:18]\n",
        "Y1 = results['label']\n"
      ],
      "execution_count": null,
      "outputs": []
    },
    {
      "cell_type": "code",
      "metadata": {
        "id": "8gQm-s9NSPgk",
        "colab_type": "code",
        "colab": {
          "base_uri": "https://localhost:8080/",
          "height": 168
        },
        "outputId": "e11eb488-5958-45d0-bb72-763087ee172e"
      },
      "source": [
        "from sklearn import preprocessing\n",
        "y = pd.get_dummies(Y1)\n",
        "print(x.head())\n",
        "print(y.shape)"
      ],
      "execution_count": null,
      "outputs": [
        {
          "output_type": "stream",
          "text": [
            "     0             1    2    3  ...   12   13            14            15\n",
            "0  0.0  4.811244e+07  0.0  0.0  ...  0.0  0.0  2.670458e+07  8.313858e+07\n",
            "1  0.0  3.477977e+05  0.0  0.0  ...  0.0  0.0  1.915057e+05  6.009039e+05\n",
            "2  0.0  6.455196e+07  0.0  0.0  ...  0.0  0.0  3.583296e+07  1.115463e+08\n",
            "3  0.0  2.009876e+08  0.0  0.0  ...  0.0  0.0  1.116514e+08  3.472892e+08\n",
            "4  0.0  2.384675e+05  0.0  0.0  ...  0.0  0.0  1.315073e+05  4.120424e+05\n",
            "\n",
            "[5 rows x 16 columns]\n",
            "(96498, 6)\n"
          ],
          "name": "stdout"
        }
      ]
    },
    {
      "cell_type": "code",
      "metadata": {
        "id": "gEab2XZJSR35",
        "colab_type": "code",
        "colab": {
          "base_uri": "https://localhost:8080/",
          "height": 118
        },
        "outputId": "efc3dc7f-09e0-42b0-97f1-da95dbb8ee58"
      },
      "source": [
        "seed = 7\n",
        "test_size = 0.4\n",
        "x_train, x_test, y_train, y_test = train_test_split(x, y, test_size=test_size, random_state=seed)\n",
        "x_val, x_test, y_val, y_test = train_test_split(x_test, y_test, test_size= 0.5, random_state=seed)\n",
        "print(x_train.shape)\n",
        "print(x_val.shape)\n",
        "print(x_test.shape)\n",
        "print(y_train.shape)\n",
        "print(y_val.shape)\n",
        "print(y_test.shape)"
      ],
      "execution_count": null,
      "outputs": [
        {
          "output_type": "stream",
          "text": [
            "(57898, 16)\n",
            "(19300, 16)\n",
            "(19300, 16)\n",
            "(57898, 6)\n",
            "(19300, 6)\n",
            "(19300, 6)\n"
          ],
          "name": "stdout"
        }
      ]
    },
    {
      "cell_type": "code",
      "metadata": {
        "id": "PqWjAVv-S4Td",
        "colab_type": "code",
        "colab": {}
      },
      "source": [
        "from keras import models\n",
        "from keras import layers\n",
        "nn = models.Sequential()"
      ],
      "execution_count": null,
      "outputs": []
    },
    {
      "cell_type": "code",
      "metadata": {
        "id": "sbqn_wglS_hV",
        "colab_type": "code",
        "colab": {
          "base_uri": "https://localhost:8080/",
          "height": 252
        },
        "outputId": "ae462609-c58b-41e6-86d7-e57e3593b595"
      },
      "source": [
        "nn = models.Sequential()\n",
        "nn.add(layers.Dense(512, activation = \"relu\", input_shape = (16,)))\n",
        "nn.add(layers.Dense(128, activation = \"relu\"))\n",
        "nn.add(layers.Dense(6, activation = \"softmax\"))\n",
        "nn.compile(optimizer = \"rmsprop\", loss = 'categorical_crossentropy', \n",
        "           metrics = ['accuracy'])\n",
        "nn.summary()"
      ],
      "execution_count": null,
      "outputs": [
        {
          "output_type": "stream",
          "text": [
            "Model: \"sequential_2\"\n",
            "_________________________________________________________________\n",
            "Layer (type)                 Output Shape              Param #   \n",
            "=================================================================\n",
            "dense_3 (Dense)              (None, 512)               8704      \n",
            "_________________________________________________________________\n",
            "dense_4 (Dense)              (None, 128)               65664     \n",
            "_________________________________________________________________\n",
            "dense_5 (Dense)              (None, 6)                 774       \n",
            "=================================================================\n",
            "Total params: 75,142\n",
            "Trainable params: 75,142\n",
            "Non-trainable params: 0\n",
            "_________________________________________________________________\n"
          ],
          "name": "stdout"
        }
      ]
    },
    {
      "cell_type": "code",
      "metadata": {
        "id": "6wWfadOZTDhK",
        "colab_type": "code",
        "colab": {
          "base_uri": "https://localhost:8080/",
          "height": 1000
        },
        "outputId": "9a67f6d1-0dd7-4719-c371-6f0615b20d7f"
      },
      "source": [
        "history = nn.fit(x_train,y_train,epochs=100,batch_size=256,validation_data = (x_val,y_val))"
      ],
      "execution_count": null,
      "outputs": [
        {
          "output_type": "stream",
          "text": [
            "Epoch 1/100\n",
            "227/227 [==============================] - 1s 6ms/step - loss: 31779824.0000 - accuracy: 0.6010 - val_loss: 11625816.0000 - val_accuracy: 0.8639\n",
            "Epoch 2/100\n",
            "227/227 [==============================] - 1s 5ms/step - loss: 18559262.0000 - accuracy: 0.6288 - val_loss: 20612058.0000 - val_accuracy: 0.8638\n",
            "Epoch 3/100\n",
            "227/227 [==============================] - 1s 5ms/step - loss: 10667755.0000 - accuracy: 0.6481 - val_loss: 3943636.5000 - val_accuracy: 0.8621\n",
            "Epoch 4/100\n",
            "227/227 [==============================] - 1s 5ms/step - loss: 6442137.0000 - accuracy: 0.6414 - val_loss: 4535616.5000 - val_accuracy: 0.8656\n",
            "Epoch 5/100\n",
            "227/227 [==============================] - 1s 5ms/step - loss: 3794266.0000 - accuracy: 0.6526 - val_loss: 8479178.0000 - val_accuracy: 0.0952\n",
            "Epoch 6/100\n",
            "227/227 [==============================] - 1s 6ms/step - loss: 2443094.7500 - accuracy: 0.6397 - val_loss: 1121139.2500 - val_accuracy: 0.8652\n",
            "Epoch 7/100\n",
            "227/227 [==============================] - 1s 5ms/step - loss: 1256566.3750 - accuracy: 0.6431 - val_loss: 1980384.7500 - val_accuracy: 0.0731\n",
            "Epoch 8/100\n",
            "227/227 [==============================] - 1s 5ms/step - loss: 702475.3125 - accuracy: 0.6320 - val_loss: 467609.2812 - val_accuracy: 0.8621\n",
            "Epoch 9/100\n",
            "227/227 [==============================] - 1s 5ms/step - loss: 675167.0625 - accuracy: 0.6480 - val_loss: 834913.8125 - val_accuracy: 0.8658\n",
            "Epoch 10/100\n",
            "227/227 [==============================] - 1s 5ms/step - loss: 572365.4375 - accuracy: 0.6122 - val_loss: 239456.5312 - val_accuracy: 0.8648\n",
            "Epoch 11/100\n",
            "227/227 [==============================] - 1s 5ms/step - loss: 345198.6875 - accuracy: 0.6305 - val_loss: 104823.8047 - val_accuracy: 0.8411\n",
            "Epoch 12/100\n",
            "227/227 [==============================] - 1s 5ms/step - loss: 401314.5000 - accuracy: 0.6206 - val_loss: 293040.4375 - val_accuracy: 0.8647\n",
            "Epoch 13/100\n",
            "227/227 [==============================] - 1s 5ms/step - loss: 279953.7812 - accuracy: 0.6458 - val_loss: 131451.5625 - val_accuracy: 0.8558\n",
            "Epoch 14/100\n",
            "227/227 [==============================] - 1s 5ms/step - loss: 201834.9062 - accuracy: 0.6144 - val_loss: 24733.3848 - val_accuracy: 0.8566\n",
            "Epoch 15/100\n",
            "227/227 [==============================] - 1s 5ms/step - loss: 64113.9375 - accuracy: 0.6982 - val_loss: 89299.1172 - val_accuracy: 0.8660\n",
            "Epoch 16/100\n",
            "227/227 [==============================] - 1s 5ms/step - loss: 74293.8125 - accuracy: 0.7286 - val_loss: 2559.5012 - val_accuracy: 0.8508\n",
            "Epoch 17/100\n",
            "227/227 [==============================] - 1s 6ms/step - loss: 3703.8428 - accuracy: 0.8309 - val_loss: 34.7931 - val_accuracy: 0.8351\n",
            "Epoch 18/100\n",
            "227/227 [==============================] - 1s 5ms/step - loss: 132.4744 - accuracy: 0.8328 - val_loss: 933.4827 - val_accuracy: 0.8326\n",
            "Epoch 19/100\n",
            "227/227 [==============================] - 1s 6ms/step - loss: 4847.0688 - accuracy: 0.8194 - val_loss: 1.4055 - val_accuracy: 0.8347\n",
            "Epoch 20/100\n",
            "227/227 [==============================] - 1s 6ms/step - loss: 2815.9409 - accuracy: 0.8229 - val_loss: 1.1488 - val_accuracy: 0.8347\n",
            "Epoch 21/100\n",
            "227/227 [==============================] - 1s 6ms/step - loss: 5840.5420 - accuracy: 0.8291 - val_loss: 1.1298 - val_accuracy: 0.8347\n",
            "Epoch 22/100\n",
            "227/227 [==============================] - 1s 6ms/step - loss: 1086.7400 - accuracy: 0.8244 - val_loss: 1.6905 - val_accuracy: 0.8306\n",
            "Epoch 23/100\n",
            "227/227 [==============================] - 1s 6ms/step - loss: 1.8871 - accuracy: 0.8321 - val_loss: 1.1185 - val_accuracy: 0.8347\n",
            "Epoch 24/100\n",
            "227/227 [==============================] - 1s 6ms/step - loss: 4638.1768 - accuracy: 0.8160 - val_loss: 1.1829 - val_accuracy: 0.8347\n",
            "Epoch 25/100\n",
            "227/227 [==============================] - 1s 5ms/step - loss: 60.7473 - accuracy: 0.8318 - val_loss: 1.3256 - val_accuracy: 0.8315\n",
            "Epoch 26/100\n",
            "227/227 [==============================] - 1s 5ms/step - loss: 1268.8497 - accuracy: 0.8260 - val_loss: 1.4188 - val_accuracy: 0.8347\n",
            "Epoch 27/100\n",
            "227/227 [==============================] - 1s 5ms/step - loss: 1.8684 - accuracy: 0.8330 - val_loss: 1.3396 - val_accuracy: 0.8347\n",
            "Epoch 28/100\n",
            "227/227 [==============================] - 1s 5ms/step - loss: 657.0411 - accuracy: 0.8293 - val_loss: 1.0186 - val_accuracy: 0.8347\n",
            "Epoch 29/100\n",
            "227/227 [==============================] - 1s 5ms/step - loss: 0.7433 - accuracy: 0.8330 - val_loss: 1.1724 - val_accuracy: 0.8347\n",
            "Epoch 30/100\n",
            "227/227 [==============================] - 1s 5ms/step - loss: 1115.7258 - accuracy: 0.8295 - val_loss: 1.5843 - val_accuracy: 0.8343\n",
            "Epoch 31/100\n",
            "227/227 [==============================] - 1s 5ms/step - loss: 96.0165 - accuracy: 0.8295 - val_loss: 0.9968 - val_accuracy: 0.8347\n",
            "Epoch 32/100\n",
            "227/227 [==============================] - 1s 5ms/step - loss: 3398.1023 - accuracy: 0.8250 - val_loss: 0.9927 - val_accuracy: 0.8347\n",
            "Epoch 33/100\n",
            "227/227 [==============================] - 1s 5ms/step - loss: 264.8923 - accuracy: 0.8297 - val_loss: 0.9769 - val_accuracy: 0.8346\n",
            "Epoch 34/100\n",
            "227/227 [==============================] - 1s 5ms/step - loss: 0.8800 - accuracy: 0.8330 - val_loss: 0.8031 - val_accuracy: 0.8347\n",
            "Epoch 35/100\n",
            "227/227 [==============================] - 1s 5ms/step - loss: 0.8053 - accuracy: 0.8330 - val_loss: 0.8090 - val_accuracy: 0.8347\n",
            "Epoch 36/100\n",
            "227/227 [==============================] - 1s 5ms/step - loss: 10.5488 - accuracy: 0.8332 - val_loss: 0.9798 - val_accuracy: 0.8349\n",
            "Epoch 37/100\n",
            "227/227 [==============================] - 1s 5ms/step - loss: 6.8053 - accuracy: 0.8331 - val_loss: 1.6063 - val_accuracy: 0.8350\n",
            "Epoch 38/100\n",
            "227/227 [==============================] - 1s 5ms/step - loss: 0.7035 - accuracy: 0.8330 - val_loss: 1.1145 - val_accuracy: 0.8347\n",
            "Epoch 39/100\n",
            "227/227 [==============================] - 1s 5ms/step - loss: 3.0155 - accuracy: 0.8331 - val_loss: 0.9255 - val_accuracy: 0.8347\n",
            "Epoch 40/100\n",
            "227/227 [==============================] - 1s 5ms/step - loss: 5.4875 - accuracy: 0.8330 - val_loss: 0.9230 - val_accuracy: 0.8347\n",
            "Epoch 41/100\n",
            "227/227 [==============================] - 1s 5ms/step - loss: 0.6492 - accuracy: 0.8330 - val_loss: 0.9955 - val_accuracy: 0.8347\n",
            "Epoch 42/100\n",
            "227/227 [==============================] - 1s 5ms/step - loss: 2.4899 - accuracy: 0.8330 - val_loss: 1.0030 - val_accuracy: 0.8347\n",
            "Epoch 43/100\n",
            "227/227 [==============================] - 1s 5ms/step - loss: 0.6439 - accuracy: 0.8331 - val_loss: 1.1966 - val_accuracy: 0.8347\n",
            "Epoch 44/100\n",
            "227/227 [==============================] - 1s 5ms/step - loss: 0.6480 - accuracy: 0.8330 - val_loss: 1.0521 - val_accuracy: 0.8347\n",
            "Epoch 45/100\n",
            "227/227 [==============================] - 1s 5ms/step - loss: 0.6462 - accuracy: 0.8330 - val_loss: 1.3403 - val_accuracy: 0.8347\n",
            "Epoch 46/100\n",
            "227/227 [==============================] - 1s 5ms/step - loss: 0.6430 - accuracy: 0.8330 - val_loss: 1.3127 - val_accuracy: 0.8347\n",
            "Epoch 47/100\n",
            "227/227 [==============================] - 1s 5ms/step - loss: 0.6527 - accuracy: 0.8331 - val_loss: 1.5844 - val_accuracy: 0.8347\n",
            "Epoch 48/100\n",
            "227/227 [==============================] - 1s 5ms/step - loss: 10.7424 - accuracy: 0.8331 - val_loss: 1.3202 - val_accuracy: 0.8347\n",
            "Epoch 49/100\n",
            "227/227 [==============================] - 1s 5ms/step - loss: 0.6437 - accuracy: 0.8330 - val_loss: 1.4345 - val_accuracy: 0.8347\n",
            "Epoch 50/100\n",
            "227/227 [==============================] - 1s 5ms/step - loss: 4433.6724 - accuracy: 0.8266 - val_loss: 1.1315 - val_accuracy: 0.8347\n",
            "Epoch 51/100\n",
            "227/227 [==============================] - 1s 5ms/step - loss: 0.6439 - accuracy: 0.8330 - val_loss: 1.0766 - val_accuracy: 0.8347\n",
            "Epoch 52/100\n",
            "227/227 [==============================] - 1s 5ms/step - loss: 0.6561 - accuracy: 0.8330 - val_loss: 1.3590 - val_accuracy: 0.8347\n",
            "Epoch 53/100\n",
            "227/227 [==============================] - 1s 5ms/step - loss: 911.2952 - accuracy: 0.8294 - val_loss: 1.4453 - val_accuracy: 0.8347\n",
            "Epoch 54/100\n",
            "227/227 [==============================] - 1s 5ms/step - loss: 528.9785 - accuracy: 0.8297 - val_loss: 1.6303 - val_accuracy: 0.8347\n",
            "Epoch 55/100\n",
            "227/227 [==============================] - 1s 5ms/step - loss: 44.3326 - accuracy: 0.8330 - val_loss: 1.4711 - val_accuracy: 0.8347\n",
            "Epoch 56/100\n",
            "227/227 [==============================] - 1s 5ms/step - loss: 0.6492 - accuracy: 0.8330 - val_loss: 1.5560 - val_accuracy: 0.8347\n",
            "Epoch 57/100\n",
            "227/227 [==============================] - 1s 5ms/step - loss: 2.0703 - accuracy: 0.8330 - val_loss: 1.4528 - val_accuracy: 0.8347\n",
            "Epoch 58/100\n",
            "227/227 [==============================] - 1s 5ms/step - loss: 0.6448 - accuracy: 0.8330 - val_loss: 1.4090 - val_accuracy: 0.8347\n",
            "Epoch 59/100\n",
            "227/227 [==============================] - 1s 6ms/step - loss: 426.1443 - accuracy: 0.8295 - val_loss: 1.3140 - val_accuracy: 0.8345\n",
            "Epoch 60/100\n",
            "227/227 [==============================] - 1s 5ms/step - loss: 0.7787 - accuracy: 0.8330 - val_loss: 1.4333 - val_accuracy: 0.8347\n",
            "Epoch 61/100\n",
            "227/227 [==============================] - 1s 5ms/step - loss: 172.3097 - accuracy: 0.8299 - val_loss: 1.7740 - val_accuracy: 0.8347\n",
            "Epoch 62/100\n",
            "227/227 [==============================] - 1s 5ms/step - loss: 0.6489 - accuracy: 0.8330 - val_loss: 1.6548 - val_accuracy: 0.8347\n",
            "Epoch 63/100\n",
            "227/227 [==============================] - 1s 5ms/step - loss: 0.6484 - accuracy: 0.8330 - val_loss: 1.6937 - val_accuracy: 0.8347\n",
            "Epoch 64/100\n",
            "227/227 [==============================] - 1s 5ms/step - loss: 23212.0078 - accuracy: 0.8328 - val_loss: 1.6953 - val_accuracy: 0.8347\n",
            "Epoch 65/100\n",
            "227/227 [==============================] - 1s 5ms/step - loss: 623.9586 - accuracy: 0.8296 - val_loss: 1.6368 - val_accuracy: 0.8347\n",
            "Epoch 66/100\n",
            "227/227 [==============================] - 1s 5ms/step - loss: 0.6406 - accuracy: 0.8330 - val_loss: 1.7424 - val_accuracy: 0.8347\n",
            "Epoch 67/100\n",
            "227/227 [==============================] - 1s 5ms/step - loss: 68.9596 - accuracy: 0.8294 - val_loss: 1.4648 - val_accuracy: 0.8347\n",
            "Epoch 68/100\n",
            "227/227 [==============================] - 1s 5ms/step - loss: 0.6611 - accuracy: 0.8330 - val_loss: 1.6696 - val_accuracy: 0.8347\n",
            "Epoch 69/100\n",
            "227/227 [==============================] - 1s 5ms/step - loss: 145.5764 - accuracy: 0.8296 - val_loss: 1.6123 - val_accuracy: 0.8347\n",
            "Epoch 70/100\n",
            "227/227 [==============================] - 1s 5ms/step - loss: 0.6467 - accuracy: 0.8331 - val_loss: 1.6811 - val_accuracy: 0.8347\n",
            "Epoch 71/100\n",
            "227/227 [==============================] - 1s 5ms/step - loss: 260.4779 - accuracy: 0.8297 - val_loss: 1.6848 - val_accuracy: 0.8347\n",
            "Epoch 72/100\n",
            "227/227 [==============================] - 1s 5ms/step - loss: 333.5856 - accuracy: 0.8293 - val_loss: 1.6021 - val_accuracy: 0.8347\n",
            "Epoch 73/100\n",
            "227/227 [==============================] - 1s 5ms/step - loss: 669.1953 - accuracy: 0.8330 - val_loss: 1.6836 - val_accuracy: 0.8347\n",
            "Epoch 74/100\n",
            "227/227 [==============================] - 1s 5ms/step - loss: 167.4174 - accuracy: 0.8328 - val_loss: 1.6100 - val_accuracy: 0.8340\n",
            "Epoch 75/100\n",
            "227/227 [==============================] - 1s 5ms/step - loss: 0.6370 - accuracy: 0.8327 - val_loss: 1.2908 - val_accuracy: 0.8347\n",
            "Epoch 76/100\n",
            "227/227 [==============================] - 1s 5ms/step - loss: 478.0295 - accuracy: 0.8289 - val_loss: 1.2595 - val_accuracy: 0.8347\n",
            "Epoch 77/100\n",
            "227/227 [==============================] - 1s 5ms/step - loss: 57.3492 - accuracy: 0.8322 - val_loss: 1.3191 - val_accuracy: 0.8347\n",
            "Epoch 78/100\n",
            "227/227 [==============================] - 1s 6ms/step - loss: 195.8778 - accuracy: 0.8297 - val_loss: 1.4746 - val_accuracy: 0.8347\n",
            "Epoch 79/100\n",
            "227/227 [==============================] - 1s 5ms/step - loss: 0.6318 - accuracy: 0.8331 - val_loss: 1.4670 - val_accuracy: 0.8347\n",
            "Epoch 80/100\n",
            "227/227 [==============================] - 1s 5ms/step - loss: 270.9707 - accuracy: 0.8296 - val_loss: 1.3631 - val_accuracy: 0.8347\n",
            "Epoch 81/100\n",
            "227/227 [==============================] - 1s 5ms/step - loss: 0.6469 - accuracy: 0.8330 - val_loss: 1.3509 - val_accuracy: 0.8347\n",
            "Epoch 82/100\n",
            "227/227 [==============================] - 1s 5ms/step - loss: 305.5813 - accuracy: 0.8295 - val_loss: 1.2541 - val_accuracy: 0.8347\n",
            "Epoch 83/100\n",
            "227/227 [==============================] - 1s 5ms/step - loss: 0.6441 - accuracy: 0.8330 - val_loss: 1.2910 - val_accuracy: 0.8347\n",
            "Epoch 84/100\n",
            "227/227 [==============================] - 1s 5ms/step - loss: 0.6464 - accuracy: 0.8330 - val_loss: 1.1257 - val_accuracy: 0.8347\n",
            "Epoch 85/100\n",
            "227/227 [==============================] - 1s 5ms/step - loss: 0.6478 - accuracy: 0.8330 - val_loss: 1.4800 - val_accuracy: 0.8347\n",
            "Epoch 86/100\n",
            "227/227 [==============================] - 1s 5ms/step - loss: 213.2678 - accuracy: 0.8330 - val_loss: 1.3998 - val_accuracy: 0.8347\n",
            "Epoch 87/100\n",
            "227/227 [==============================] - 1s 5ms/step - loss: 0.6392 - accuracy: 0.8330 - val_loss: 1.5675 - val_accuracy: 0.8347\n",
            "Epoch 88/100\n",
            "227/227 [==============================] - 1s 5ms/step - loss: 0.6378 - accuracy: 0.8330 - val_loss: 1.5899 - val_accuracy: 0.8347\n",
            "Epoch 89/100\n",
            "227/227 [==============================] - 1s 5ms/step - loss: 535.7097 - accuracy: 0.8330 - val_loss: 1.5724 - val_accuracy: 0.8347\n",
            "Epoch 90/100\n",
            "227/227 [==============================] - 1s 5ms/step - loss: 0.6353 - accuracy: 0.8331 - val_loss: 1.6237 - val_accuracy: 0.8347\n",
            "Epoch 91/100\n",
            "227/227 [==============================] - 1s 5ms/step - loss: 0.6351 - accuracy: 0.8330 - val_loss: 1.7610 - val_accuracy: 0.8347\n",
            "Epoch 92/100\n",
            "227/227 [==============================] - 1s 5ms/step - loss: 0.6405 - accuracy: 0.8331 - val_loss: 1.9443 - val_accuracy: 0.8347\n",
            "Epoch 93/100\n",
            "227/227 [==============================] - 1s 5ms/step - loss: 0.6344 - accuracy: 0.8330 - val_loss: 2.0608 - val_accuracy: 0.8347\n",
            "Epoch 94/100\n",
            "227/227 [==============================] - 1s 5ms/step - loss: 0.6365 - accuracy: 0.8331 - val_loss: 2.2771 - val_accuracy: 0.8347\n",
            "Epoch 95/100\n",
            "227/227 [==============================] - 1s 6ms/step - loss: 191.7392 - accuracy: 0.8331 - val_loss: 2.1843 - val_accuracy: 0.8347\n",
            "Epoch 96/100\n",
            "227/227 [==============================] - 1s 5ms/step - loss: 0.6420 - accuracy: 0.8331 - val_loss: 2.1552 - val_accuracy: 0.8347\n",
            "Epoch 97/100\n",
            "227/227 [==============================] - 1s 6ms/step - loss: 0.6359 - accuracy: 0.8331 - val_loss: 2.2517 - val_accuracy: 0.8347\n",
            "Epoch 98/100\n",
            "227/227 [==============================] - 1s 6ms/step - loss: 133.4761 - accuracy: 0.8331 - val_loss: 2.1616 - val_accuracy: 0.8347\n",
            "Epoch 99/100\n",
            "227/227 [==============================] - 1s 6ms/step - loss: 0.6371 - accuracy: 0.8331 - val_loss: 2.2461 - val_accuracy: 0.8347\n",
            "Epoch 100/100\n",
            "227/227 [==============================] - 1s 5ms/step - loss: 847.7817 - accuracy: 0.8296 - val_loss: 2.0546 - val_accuracy: 0.8347\n"
          ],
          "name": "stdout"
        }
      ]
    },
    {
      "cell_type": "code",
      "metadata": {
        "id": "uwphU4vYVG3o",
        "colab_type": "code",
        "colab": {
          "base_uri": "https://localhost:8080/",
          "height": 118
        },
        "outputId": "e9325b94-3a16-412d-b673-7e437cdbc979"
      },
      "source": [
        "train_loss,train_accuracy = nn.evaluate(x_train,y_train)\n",
        "val_loss,val_accuracy = nn.evaluate(x_val,y_val)\n",
        "test_loss,test_accuracy = nn.evaluate(x_test,y_test)\n",
        "print('Training Accuracy : ',train_accuracy*100,\"%\")\n",
        "print('Val Accuracy : ',val_accuracy*100,\"%\")\n",
        "print('Test Accuracy : ',test_accuracy*100,\"%\")"
      ],
      "execution_count": null,
      "outputs": [
        {
          "output_type": "stream",
          "text": [
            "1810/1810 [==============================] - 2s 963us/step - loss: 0.6425 - accuracy: 0.8331\n",
            "604/604 [==============================] - 1s 988us/step - loss: 2.0547 - accuracy: 0.8347\n",
            "604/604 [==============================] - 1s 962us/step - loss: 0.6429 - accuracy: 0.8338\n",
            "Training Accuracy :  83.30512046813965 %\n",
            "Val Accuracy :  83.47150087356567 %\n",
            "Test Accuracy :  83.3834171295166 %\n"
          ],
          "name": "stdout"
        }
      ]
    }
  ]
}